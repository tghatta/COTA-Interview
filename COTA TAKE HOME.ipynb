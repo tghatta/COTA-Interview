{
 "cells": [
  {
   "cell_type": "code",
   "execution_count": 17,
   "id": "0e194acf-f0b6-438b-8b32-99219b5eebdb",
   "metadata": {},
   "outputs": [],
   "source": [
    "def make_cols(data, num_cols = 3):\n",
    "  #Get initial data \n",
    "  num_rows = len(data)//num_cols\n",
    "  leftover = len(data) % num_cols\n",
    "\n",
    "  #Adjust col size\n",
    "  columns = []\n",
    "  start = 0\n",
    "  for i in range(num_cols):\n",
    "    end = start + num_rows + (1 if i < leftover else 0)\n",
    "    columns.append(data[start:end])\n",
    "    start = end\n",
    "\n",
    "  #Print\n",
    "  max_rows = max(len(col) for col in columns)\n",
    "  for row in range(max_rows):\n",
    "    for col in columns:\n",
    "      if row < len(col):\n",
    "        print(col[row], end = ', ')\n",
    "      else:\n",
    "        print(\" \", end = \", \")\n",
    "    print()\n",
    "\n",
    "\n",
    "  "
   ]
  },
  {
   "cell_type": "code",
   "execution_count": 21,
   "id": "eb05b46f-a60c-4cfc-a0b2-e375dfd88539",
   "metadata": {},
   "outputs": [
    {
     "name": "stdout",
     "output_type": "stream",
     "text": [
      "a, d, g, \n",
      "b, e, h, \n",
      "c, f, i, \n"
     ]
    }
   ],
   "source": [
    "sample = ['a', 'b', 'c', 'd', 'e', 'f', 'g', 'h', 'i']\n",
    "make_cols(sample)"
   ]
  },
  {
   "cell_type": "code",
   "execution_count": null,
   "id": "51fb0405-3235-4721-9c0f-aedaf95a3243",
   "metadata": {},
   "outputs": [],
   "source": []
  }
 ],
 "metadata": {
  "kernelspec": {
   "display_name": "Python 3 (ipykernel)",
   "language": "python",
   "name": "python3"
  },
  "language_info": {
   "codemirror_mode": {
    "name": "ipython",
    "version": 3
   },
   "file_extension": ".py",
   "mimetype": "text/x-python",
   "name": "python",
   "nbconvert_exporter": "python",
   "pygments_lexer": "ipython3",
   "version": "3.12.4"
  }
 },
 "nbformat": 4,
 "nbformat_minor": 5
}
